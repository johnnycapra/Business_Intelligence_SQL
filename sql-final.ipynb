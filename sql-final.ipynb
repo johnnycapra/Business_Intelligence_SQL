{
 "cells": [
  {
   "cell_type": "markdown",
   "id": "742690b4",
   "metadata": {},
   "source": [
    "Problem 1: Sales rep performance analysis - Management wants to evaluate sales representative performance to determine bonus eligibility and identify coaching opportunities. Create an analysis that shows each sales representative's total sales revenue, number of active customers, and average order value for customers under their management. Include only sales reps who have at least one customer with orders and rank them by total sales revenue."
   ]
  },
  {
   "cell_type": "markdown",
   "id": "5482ab2b",
   "metadata": {},
   "source": [
    "```postgresql"
   ]
  },
  {
   "cell_type": "markdown",
   "id": "9c3c4155",
   "metadata": {},
   "source": [
    "```sql\n",
    "SELECT e.employeeNumber, e.firstName || ' ' || e.lastName AS salesRepName,\n",
    "\tCOUNT(DISTINCT c.customerNumber) AS activeCustomers,\n",
    "\tCOUNT(DISTINCT o.orderNumber) AS totalOrders,\n",
    "\tROUND(SUM(od.quantityOrdered * od.priceEach)::numeric, 2) AS totalSalesRevenue,\n",
    "\tROUND(AVG(od.quantityOrdered * od.priceEach)::numeric, 2) AS avgOrderValue\n",
    "FROM employees e\n",
    "\tINNER JOIN customers c ON e.employeeNumber = c.salesRepEmployeeNumber\n",
    "\tINNER JOIN orders o ON c.customerNumber = o.customerNumber\n",
    "\tINNER JOIN orderdetails od ON o.orderNumber = od.orderNumber\n",
    "WHERE e.jobTitle LIKE '%Sales Rep%'\n",
    "GROUP BY e.employeeNumber, e.firstName, e.lastName\n",
    "HAVING SUM(od.quantityOrdered * od.priceEach) > 0\n",
    "ORDER BY totalSalesRevenue DESC;\n"
   ]
  },
  {
   "cell_type": "markdown",
   "id": "ee06164b",
   "metadata": {},
   "source": []
  },
  {
   "cell_type": "markdown",
   "id": "e8835e67",
   "metadata": {},
   "source": [
    "![Sales Rep Answers](sale_rep_answers.png)"
   ]
  },
  {
   "cell_type": "markdown",
   "id": "ea21cfdc",
   "metadata": {},
   "source": []
  },
  {
   "cell_type": "markdown",
   "id": "a150dc5b",
   "metadata": {},
   "source": [
    "Problem 2: Profitability and Inventory Optimization - The procurement team wants to optimize inventory investments by understanding which products generate the highest profit margins and how current stock levels align with sales velocity. Calculate profit margin, total profit, and inventory turnover metrics for each product to guide purchasing decisions."
   ]
  },
  {
   "cell_type": "markdown",
   "id": "9f7be25f",
   "metadata": {},
   "source": [
    "```sql\n",
    "SELECT pl.productLine, pl.textDescription,\n",
    "\tCOUNT(DISTINCT p.productCode) AS productCount,\n",
    "\tROUND(AVG(p.MSRP - p.buyPrice)::numeric, 2) AS avgProfitPerUnit,\n",
    "\tROUND(AVG((p.MSRP - p.buyPrice) / p.buyPrice * 100)::numeric, 2) AS avgProfitMarginPct,\n",
    "\tROUND(SUM(od.quantityOrdered * (od.priceEach - p.buyPrice))::numeric,2) AS totalProfit,\n",
    "\tROUND(AVG(p.quantityInStock)::numeric, 0) AS avgInventoryLevel,\n",
    "\tROUND((SUM(od.quantityOrdered)::numeric / AVG(p.quantityInStock)::numeric),2) AS inventoryTurnoverRatio\n",
    "FROM productlines pl\n",
    "\tINNER JOIN products p ON pl.productLine = p.productLine\n",
    "\tINNER JOIN orderdetails od ON p.productCode = od.productCode\n",
    "GROUP BY pl.productLine, pl.textDescription\n",
    "ORDER BY totalProfit DESC;"
   ]
  },
  {
   "cell_type": "markdown",
   "id": "88e10565",
   "metadata": {},
   "source": [
    "![Profitability and Inventory](profitability_inventory_answers.png)"
   ]
  },
  {
   "cell_type": "markdown",
   "id": "b50dbd23",
   "metadata": {},
   "source": [
    "Problem 3: Customer Retention Analysis - The marketing team needs to identify at-risk customers for a retention campaign. Find customers who have made purchases but haven't placed an order in the last 6 months of available data in the database. Include their total historical order value and last order date to help prioritize outreach efforts. Only include customers who have spent more than $5000 historically."
   ]
  },
  {
   "cell_type": "markdown",
   "id": "de5b30ce",
   "metadata": {},
   "source": [
    "```sql\n",
    "SELECT c.customerNumber, c.customerName, c.country,\n",
    "\tCOUNT(o.orderNumber) AS totalOrders,\n",
    "\tROUND(SUM(od.quantityOrdered * od.priceEach)::numeric, 2) AS totalSpent,\n",
    "\tMAX(o.orderDate) AS lastOrderDate,\n",
    "\tCURRENT_DATE - MAX(o.orderDate::date) AS daysSinceLastOrder\n",
    "FROM customers c\n",
    "\tINNER JOIN orders o ON c.customerNumber = o.customerNumber\n",
    "\tINNER JOIN orderdetails od ON o.orderNumber = od.orderNumber\n",
    "GROUP BY c.customerNumber, c.customerName, c.country\n",
    "HAVING SUM(od.quantityOrdered * od.priceEach) > 5000\n",
    "\tAND MAX(o.orderDate::date) < CURRENT_DATE - INTERVAL '180 days'\n",
    "ORDER BY totalSpent DESC, daysSinceLastOrder DESC;"
   ]
  },
  {
   "cell_type": "markdown",
   "id": "e34d2f68",
   "metadata": {},
   "source": [
    "![Customer Retention](customer_retention_ansers.png)"
   ]
  },
  {
   "cell_type": "markdown",
   "id": "40b74b89",
   "metadata": {},
   "source": []
  }
 ],
 "metadata": {
  "language_info": {
   "name": "python"
  }
 },
 "nbformat": 4,
 "nbformat_minor": 5
}
